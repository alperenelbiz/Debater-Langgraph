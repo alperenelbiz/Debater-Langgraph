{
 "cells": [
  {
   "cell_type": "markdown",
   "id": "fcf13188",
   "metadata": {},
   "source": [
    "# Debate"
   ]
  },
  {
   "cell_type": "markdown",
   "id": "a1c2f6bf",
   "metadata": {},
   "source": [
    "## Required Environment Libraries"
   ]
  },
  {
   "cell_type": "code",
   "execution_count": 1,
   "id": "547d33b6",
   "metadata": {},
   "outputs": [],
   "source": [
    "import os\n",
    "import json\n",
    "import uuid\n",
    "\n",
    "from dotenv import load_dotenv\n",
    "from typing import List, Any, Optional, TypedDict, Literal, Dict\n",
    "from IPython.display import Image\n",
    "from typing import Tuple\n",
    "\n",
    "from langchain_openai import ChatOpenAI\n",
    "from langgraph.graph import StateGraph, END\n",
    "from langchain_core.messages import SystemMessage, HumanMessage\n",
    "from langgraph.checkpoint.memory import MemorySaver\n",
    "from langchain.tools import tool\n",
    "from langchain_community.utilities import GoogleSerperAPIWrapper"
   ]
  },
  {
   "cell_type": "markdown",
   "id": "dca8ade7",
   "metadata": {},
   "source": [
    "## Load Environment Variables"
   ]
  },
  {
   "cell_type": "code",
   "execution_count": 2,
   "id": "b4866998",
   "metadata": {},
   "outputs": [
    {
     "data": {
      "text/plain": [
       "True"
      ]
     },
     "execution_count": 2,
     "metadata": {},
     "output_type": "execute_result"
    }
   ],
   "source": [
    "load_dotenv(override=True)"
   ]
  },
  {
   "cell_type": "code",
   "execution_count": 3,
   "id": "84993151",
   "metadata": {},
   "outputs": [],
   "source": [
    "OPENAI_MODEL = os.getenv(\"OPENAI_MODEL\", \"gpt-4o-mini\")\n",
    "SERPER_API_KEY = os.getenv(\"SERPER_API_KEY\")"
   ]
  },
  {
   "cell_type": "markdown",
   "id": "687c354c",
   "metadata": {},
   "source": [
    "##  Debate State Definition"
   ]
  },
  {
   "cell_type": "code",
   "execution_count": 4,
   "id": "46879adb",
   "metadata": {},
   "outputs": [],
   "source": [
    "class DebateMessage(TypedDict):\n",
    "    role: Literal[\"debater1\", \"debater2\", \"judge\", \"tools\"]\n",
    "    content: str\n",
    "\n",
    "class DebateState(TypedDict, total=False):\n",
    "    topic: str\n",
    "    round: int\n",
    "    max_rounds: int\n",
    "    messages: List[DebateMessage]\n",
    "    winner: Optional[str]\n",
    "    verdict: Optional[str]\n",
    "    tool_caller: Optional[Literal[\"debater1\", \"debater2\"]]\n",
    "    pending_tool_calls: Optional[List[Any]]"
   ]
  },
  {
   "cell_type": "markdown",
   "id": "b130cd35",
   "metadata": {},
   "source": [
    "## Tools"
   ]
  },
  {
   "cell_type": "code",
   "execution_count": 5,
   "id": "6fedafd8",
   "metadata": {},
   "outputs": [],
   "source": [
    "serper = GoogleSerperAPIWrapper(\n",
    "    serper_api_key=SERPER_API_KEY,\n",
    "    gl=\"us\",   # geographic location\n",
    "    hl=\"en\",   # interface language\n",
    "    k=5        # number of results to consider\n",
    ") if SERPER_API_KEY else None"
   ]
  },
  {
   "cell_type": "code",
   "execution_count": 6,
   "id": "edb3c028",
   "metadata": {},
   "outputs": [],
   "source": [
    "def _format_serper_results(res: dict) -> str:\n",
    "    items = []\n",
    "    organic = res.get(\"organic\", []) or res.get(\"results\", []) or []\n",
    "\n",
    "    for r in organic:\n",
    "        title = r.get(\"title\") or r.get(\"titleHighlighted\") or \"Untitled\"\n",
    "        link = r.get(\"link\") or r.get(\"url\") or \"\"\n",
    "        snippet = r.get(\"snippet\") or r.get(\"snippetHighlighted\") or \"\"\n",
    "        source = r.get(\"source\") or r.get(\"domain\") or \"\"\n",
    "        \n",
    "        if not source and link:\n",
    "            try:\n",
    "                from urllib.parse import urlparse\n",
    "                source = urlparse(link).netloc\n",
    "            except Exception:\n",
    "                source = \"\"\n",
    "\n",
    "        title = (title[:120] + \"…\") if len(title) > 120 else title\n",
    "        snippet = (snippet[:200] + \"…\") if len(snippet) > 200 else snippet\n",
    "        items.append(f\"- {title} [{source}]\\n  {snippet}\")\n",
    "\n",
    "    if not items:\n",
    "        return \"No relevant results.\"\n",
    "\n",
    "    return \"Search summary:\\n\" + \"\\n\".join(items)"
   ]
  },
  {
   "cell_type": "code",
   "execution_count": 7,
   "id": "d74fcf11",
   "metadata": {},
   "outputs": [],
   "source": [
    "@tool\n",
    "def web_search(query: str) -> str:\n",
    "    \"\"\"Search the web using Google Serper and return a compact textual summary.\"\"\"\n",
    "    if not query or not isinstance(query, str):\n",
    "        return \"No query provided.\"\n",
    "    try:\n",
    "        res = serper.results(query)\n",
    "        return _format_serper_results(res)\n",
    "    except Exception as e:\n",
    "        return f\"Search error: {e}\""
   ]
  },
  {
   "cell_type": "markdown",
   "id": "e2bc0e40",
   "metadata": {},
   "source": [
    "### Tool Binding"
   ]
  },
  {
   "cell_type": "code",
   "execution_count": 8,
   "id": "c89561eb",
   "metadata": {},
   "outputs": [],
   "source": [
    "TOOLS: List[Any] = [web_search]"
   ]
  },
  {
   "cell_type": "code",
   "execution_count": 9,
   "id": "21b48967",
   "metadata": {},
   "outputs": [],
   "source": [
    "debater1_llm = ChatOpenAI(model=OPENAI_MODEL, temperature=0.7)\n",
    "debater2_llm = ChatOpenAI(model=OPENAI_MODEL, temperature=0.7)\n",
    "judge_llm   = ChatOpenAI(model=OPENAI_MODEL, temperature=0.1)\n",
    "\n",
    "debater1_llm_with_tools = debater1_llm.bind_tools(TOOLS)\n",
    "debater2_llm_with_tools = debater2_llm.bind_tools(TOOLS)"
   ]
  },
  {
   "cell_type": "markdown",
   "id": "8c4bfab9",
   "metadata": {},
   "source": [
    "## Helpers"
   ]
  },
  {
   "cell_type": "code",
   "execution_count": 10,
   "id": "01368e50",
   "metadata": {},
   "outputs": [],
   "source": [
    "def render_transcript(messages: List[DebateMessage]) -> str:\n",
    "    lines = []\n",
    "    \n",
    "    for m in messages:\n",
    "        lines.append(f\"{m['role'].upper()}: {m['content']}\")\n",
    "    return \"\\n\".join(lines) if lines else \"(no prior messages)\""
   ]
  },
  {
   "cell_type": "code",
   "execution_count": 11,
   "id": "03f0b049",
   "metadata": {},
   "outputs": [],
   "source": [
    "def is_return_from_tools(state: DebateState, role: Literal[\"debater1\", \"debater2\"]) -> bool:\n",
    "    if not state.get(\"messages\"):\n",
    "        return False\n",
    "\n",
    "    last = state[\"messages\"][-1][\"role\"]\n",
    "    \n",
    "    return last == \"tools\" and state.get(\"tool_caller\") == role"
   ]
  },
  {
   "cell_type": "code",
   "execution_count": 12,
   "id": "fae2a264",
   "metadata": {},
   "outputs": [],
   "source": [
    "def parse_judge_json(raw_text: str) -> Tuple[str, str]:\n",
    "    try:\n",
    "        data = json.loads(raw_text)\n",
    "        w = data.get(\"winner\", \"draw\")\n",
    "        v = data.get(\"verdict\", \"\")\n",
    "\n",
    "        if w not in (\"debater1\", \"debater2\", \"draw\"):\n",
    "            w = \"draw\"\n",
    "\n",
    "        if not isinstance(v, str):\n",
    "            v = str(v)\n",
    "\n",
    "        return w, v\n",
    "        \n",
    "    except Exception:\n",
    "        return \"draw\", raw_text.strip() or \"No structured verdict provided.\""
   ]
  },
  {
   "cell_type": "code",
   "execution_count": 13,
   "id": "59165b9f",
   "metadata": {},
   "outputs": [],
   "source": [
    "def _validate_inputs(topic: str, max_rounds: int):\n",
    "    if not isinstance(topic, str) or not topic.strip():\n",
    "        raise ValueError(\"Topic must be a non-empty string.\")\n",
    "\n",
    "    if not isinstance(max_rounds, int) or max_rounds < 1:\n",
    "        raise ValueError(\"max_rounds must be an integer >= 1.\")\n",
    "\n",
    "    if not os.getenv(\"OPENAI_API_KEY\"):\n",
    "        raise EnvironmentError(\"OPENAI_API_KEY is not set in the environment.\")\n",
    "        \n",
    "    if not os.getenv(\"SERPER_API_KEY\"):\n",
    "        print(\"Warning: SERPER_API_KEY is not set; web_search tool will return a configuration message.\")"
   ]
  },
  {
   "cell_type": "code",
   "execution_count": 14,
   "id": "e15972a6",
   "metadata": {},
   "outputs": [],
   "source": [
    "def _init_state(topic: str, max_rounds: int) -> DebateState:\n",
    "    return {\n",
    "        \"topic\": topic,\n",
    "        \"round\": 0,\n",
    "        \"max_rounds\": max_rounds,\n",
    "        \"messages\": [],\n",
    "    }"
   ]
  },
  {
   "cell_type": "code",
   "execution_count": 15,
   "id": "79c5a53c",
   "metadata": {},
   "outputs": [],
   "source": [
    "def _print_transcript(state: DebateState):\n",
    "    print(\"\\n=== Debate Transcript ===\")\n",
    "    \n",
    "    visible_idx = 1\n",
    "    last_judge_text = None\n",
    "\n",
    "    for m in state.get(\"messages\", []):\n",
    "        role = m.get(\"role\")\n",
    "        content = (m.get(\"content\") or \"\").strip()\n",
    "\n",
    "        if role in (\"debater1\", \"debater2\"):\n",
    "            if content.startswith(\"[REQUEST_TOOLS]\"):\n",
    "                continue\n",
    "            speaker = \"Debater1\" if role == \"debater1\" else \"Debater2\"\n",
    "            print(f\"{visible_idx:02d}. {speaker}: {content}\")\n",
    "            visible_idx += 1\n",
    "\n",
    "        elif role == \"judge\":\n",
    "            last_judge_text = content\n",
    "\n",
    "    if last_judge_text:\n",
    "        print(\"\\n--- Judge's Verdict ---\")\n",
    "        print(last_judge_text)\n",
    "\n",
    "    print(\"=========================\\n\")"
   ]
  },
  {
   "cell_type": "markdown",
   "id": "e562b648",
   "metadata": {},
   "source": [
    "## Role Prompts and JSON Schemas"
   ]
  },
  {
   "cell_type": "code",
   "execution_count": 16,
   "id": "ce93b358",
   "metadata": {},
   "outputs": [],
   "source": [
    "DEBATER1_SYSTEM_PROMPT = \"\"\"\n",
    "You are Debater1 in a structured debate.\n",
    "Goals:\n",
    "- Present strong arguments supporting your side.\n",
    "- Be clear, concise, and logically sound.\n",
    "- If you need any external facts (statistics, dates, definitions, named sources, recent events),\n",
    "  you must first call the tool `web_search` with a concise query and then incorporate those results.\n",
    "- If no external facts are needed, respond directly without tools.\n",
    "Only use information available in the transcript or via tools you explicitly call.\n",
    "\"\"\"\n",
    "\n",
    "DEBATER2_SYSTEM_PROMPT = \"\"\"\n",
    "You are Debater2 in a structured debate.\n",
    "Goals:\n",
    "- Rebut Debater1's points and present counterarguments.\n",
    "- Be clear, concise, and logically sound.\n",
    "- If you need any external facts (statistics, dates, definitions, named sources, recent events),\n",
    "  you must first call the tool `web_search` with a concise query and then incorporate those results.\n",
    "- If no external facts are needed, respond directly without tools.\n",
    "Only use information available in the transcript or via tools you explicitly call.\n",
    "\"\"\"\n",
    "\n",
    "JUDGE_SYSTEM_PROMPT = \"\"\"\n",
    "You are the Judge in a structured debate. Your role:\n",
    "- Evaluate both sides on clarity, logic, evidence, and responsiveness to the other side.\n",
    "- Be neutral and objective.\n",
    "- Produce a concise verdict.\n",
    "\n",
    "You must return a single JSON object:\n",
    "{\n",
    "  \"winner\": \"debater1\" | \"debater2\" | \"draw\",\n",
    "  \"verdict\": \"short explanation focusing on reasoning quality and evidence\"\n",
    "}\n",
    "Rules:\n",
    "- Consider only the transcript provided.\n",
    "- Do not include any text outside the single JSON object.\n",
    "\"\"\""
   ]
  },
  {
   "cell_type": "markdown",
   "id": "92276e2f",
   "metadata": {},
   "source": [
    "## Nodes"
   ]
  },
  {
   "cell_type": "markdown",
   "id": "780a68bb",
   "metadata": {},
   "source": [
    "### Debater1 Node"
   ]
  },
  {
   "cell_type": "code",
   "execution_count": 17,
   "id": "e7b2e56e",
   "metadata": {},
   "outputs": [],
   "source": [
    "def debater1_node(state: DebateState) -> DebateState:\n",
    "    topic = state[\"topic\"]\n",
    "    transcript = render_transcript(state[\"messages\"])\n",
    "\n",
    "    returning = is_return_from_tools(state, \"debater1\")\n",
    "    system_prompt = DEBATER1_SYSTEM_PROMPT\n",
    "    user_prompt = (\n",
    "        f\"Topic: {topic}\\nTranscript so far:\\n{transcript}\\n\\n\"\n",
    "        + (\n",
    "            \"Do not call any tools now. Produce your best final argument for this turn using the tool results above.\"\n",
    "            if returning else\n",
    "            \"Before asserting any external facts, call `web_search` with a concise query. \"\n",
    "            \"If no external facts are required, respond directly.\"\n",
    "        )\n",
    "    )\n",
    "\n",
    "    llm = debater1_llm if returning else debater1_llm_with_tools\n",
    "    resp = llm.invoke([SystemMessage(content=system_prompt), HumanMessage(content=user_prompt)])\n",
    "\n",
    "    tool_calls = getattr(resp, \"tool_calls\", None)\n",
    "    if tool_calls and not returning:\n",
    "        request_msg: DebateMessage = {\"role\": \"debater1\", \"content\": \"[REQUEST_TOOLS]\"}\n",
    "        \n",
    "        return {\n",
    "            **state,\n",
    "            \"messages\": state[\"messages\"] + [request_msg],\n",
    "            \"tool_caller\": \"debater1\",\n",
    "            \"pending_tool_calls\": tool_calls,\n",
    "        }\n",
    "\n",
    "    argument_text = resp.content if isinstance(resp.content, str) else str(resp.content)\n",
    "    new_message: DebateMessage = {\"role\": \"debater1\", \"content\": argument_text}\n",
    "\n",
    "    return {\n",
    "        **state,\n",
    "        \"messages\": state[\"messages\"] + [new_message],\n",
    "        \"tool_caller\": None if returning else state.get(\"tool_caller\"),\n",
    "        \"pending_tool_calls\": None,\n",
    "    }"
   ]
  },
  {
   "cell_type": "markdown",
   "id": "0b48ae53",
   "metadata": {},
   "source": [
    "### Debater2 Node"
   ]
  },
  {
   "cell_type": "code",
   "execution_count": 18,
   "id": "fb4ec3e4",
   "metadata": {},
   "outputs": [],
   "source": [
    "def debater2_node(state: DebateState) -> DebateState:\n",
    "    topic = state[\"topic\"]\n",
    "    transcript = render_transcript(state[\"messages\"])\n",
    "\n",
    "    returning = is_return_from_tools(state, \"debater2\")\n",
    "    system_prompt = DEBATER2_SYSTEM_PROMPT\n",
    "    user_prompt = (\n",
    "        f\"Topic: {topic}\\nTranscript so far:\\n{transcript}\\n\\n\"\n",
    "        + (\n",
    "            \"Do not call any tools now. Produce your best final rebuttal for this turn using the tool results above.\"\n",
    "            if returning else\n",
    "            \"Before asserting any external facts, call `web_search` with a concise query. \"\n",
    "            \"If no external facts are required, respond directly.\"\n",
    "        )\n",
    "    )\n",
    "\n",
    "    llm = debater2_llm if returning else debater2_llm_with_tools\n",
    "    resp = llm.invoke([SystemMessage(content=system_prompt), HumanMessage(content=user_prompt)])\n",
    "\n",
    "    tool_calls = getattr(resp, \"tool_calls\", None)\n",
    "    \n",
    "    if tool_calls and not returning:\n",
    "        request_msg: DebateMessage = {\"role\": \"debater2\", \"content\": \"[REQUEST_TOOLS]\"}\n",
    "        return {\n",
    "            **state,\n",
    "            \"messages\": state[\"messages\"] + [request_msg],\n",
    "            \"tool_caller\": \"debater2\",\n",
    "            \"pending_tool_calls\": tool_calls,\n",
    "        }\n",
    "\n",
    "    argument_text = resp.content if isinstance(resp.content, str) else str(resp.content)\n",
    "    new_message: DebateMessage = {\"role\": \"debater2\", \"content\": argument_text}\n",
    "\n",
    "    new_round = min(state[\"round\"] + 1, state[\"max_rounds\"])\n",
    "\n",
    "    return {\n",
    "        **state,\n",
    "        \"round\": new_round,\n",
    "        \"messages\": state[\"messages\"] + [new_message],\n",
    "        \"tool_caller\": None if returning else state.get(\"tool_caller\"),\n",
    "        \"pending_tool_calls\": None,\n",
    "    }"
   ]
  },
  {
   "cell_type": "markdown",
   "id": "e111a287",
   "metadata": {},
   "source": [
    "### Judge Node"
   ]
  },
  {
   "cell_type": "code",
   "execution_count": 19,
   "id": "719b7fc0",
   "metadata": {},
   "outputs": [],
   "source": [
    "def judge_node(state: DebateState) -> DebateState:\n",
    "    topic = state[\"topic\"]\n",
    "    transcript = render_transcript(state[\"messages\"])\n",
    "\n",
    "    messages = [\n",
    "        SystemMessage(content=JUDGE_SYSTEM_PROMPT),\n",
    "        HumanMessage(content=f\"Topic: {topic}\\nFull transcript:\\n{transcript}\")\n",
    "    ]\n",
    "    resp = judge_llm.invoke(messages)\n",
    "    winner, verdict = parse_judge_json(resp.content)\n",
    "\n",
    "    judge_msg: DebateMessage = {\"role\": \"judge\", \"content\": verdict or \"[No verdict text]\"}\n",
    "    \n",
    "    return {\n",
    "        **state,\n",
    "        \"messages\": state[\"messages\"] + [judge_msg],\n",
    "        \"winner\": winner,\n",
    "        \"verdict\": verdict or \"[No verdict text]\",\n",
    "    }"
   ]
  },
  {
   "cell_type": "markdown",
   "id": "7f7ad15f",
   "metadata": {},
   "source": [
    "### Tools Node"
   ]
  },
  {
   "cell_type": "code",
   "execution_count": 20,
   "id": "16b45941",
   "metadata": {},
   "outputs": [],
   "source": [
    "def tools_node(state: DebateState) -> DebateState:\n",
    "    pending = state.get(\"pending_tool_calls\") or []\n",
    "    caller = state.get(\"tool_caller\")\n",
    "    tools_by_name: Dict[str, Any] = {t.name: t for t in TOOLS}\n",
    "\n",
    "    results: List[str] = []\n",
    "\n",
    "    for call in pending:\n",
    "        name = call.get(\"name\")\n",
    "        args = call.get(\"args\", {}) or {}\n",
    "        tool_obj = tools_by_name.get(name)\n",
    "        if tool_obj is None:\n",
    "            results.append(f\"[{name}] Tool not found.\")\n",
    "            continue\n",
    "        try:\n",
    "            out = tool_obj.invoke(args)\n",
    "            results.append(f\"[{name}] {out}\")\n",
    "        except Exception as e:\n",
    "            results.append(f\"[{name}] Error: {e}\")\n",
    "\n",
    "    tools_summary = \" | \".join(results) if results else \"[No tools executed]\"\n",
    "    tools_message: DebateMessage = {\"role\": \"tools\", \"content\": tools_summary}\n",
    "\n",
    "    return {\n",
    "        **state,\n",
    "        \"messages\": state[\"messages\"] + [tools_message],\n",
    "        \"pending_tool_calls\": None,\n",
    "        \"tool_caller\": caller,\n",
    "    }"
   ]
  },
  {
   "cell_type": "markdown",
   "id": "0b57f048",
   "metadata": {},
   "source": [
    "## Routers"
   ]
  },
  {
   "cell_type": "code",
   "execution_count": 21,
   "id": "cbdd072c",
   "metadata": {},
   "outputs": [],
   "source": [
    "def route_after_debater1(state: DebateState) -> str:\n",
    "    if state[\"round\"] >= state[\"max_rounds\"]:\n",
    "        return \"judge_node\"\n",
    "\n",
    "    if state.get(\"pending_tool_calls\"):\n",
    "        return \"tools_node\"\n",
    "        \n",
    "    return \"debater2_node\""
   ]
  },
  {
   "cell_type": "code",
   "execution_count": 22,
   "id": "c1b192c1",
   "metadata": {},
   "outputs": [],
   "source": [
    "def route_after_debater2(state: DebateState) -> str:\n",
    "    if state.get(\"pending_tool_calls\"):\n",
    "        return \"tools_node\"\n",
    "        \n",
    "    return \"debater1_node\" if state[\"round\"] < state[\"max_rounds\"] else \"judge_node\""
   ]
  },
  {
   "cell_type": "code",
   "execution_count": 23,
   "id": "34be60ea",
   "metadata": {},
   "outputs": [],
   "source": [
    "def route_after_tools(state: DebateState) -> str:\n",
    "    caller = state.get(\"tool_caller\")\n",
    "\n",
    "    if caller == \"debater1\":\n",
    "        return \"debater1_node\"\n",
    "\n",
    "    if caller == \"debater2\":\n",
    "        return \"debater2_node\"\n",
    "        \n",
    "    return \"debater1_node\""
   ]
  },
  {
   "cell_type": "markdown",
   "id": "51ad813d",
   "metadata": {},
   "source": [
    "## Build Graph"
   ]
  },
  {
   "cell_type": "code",
   "execution_count": 24,
   "id": "a83a8a37",
   "metadata": {},
   "outputs": [],
   "source": [
    "graph_builder = StateGraph(DebateState)\n",
    "graph_builder.add_node(\"debater1_node\", debater1_node)\n",
    "graph_builder.add_node(\"debater2_node\", debater2_node)\n",
    "graph_builder.add_node(\"judge_node\", judge_node)\n",
    "graph_builder.add_node(\"tools_node\", tools_node)\n",
    "\n",
    "graph_builder.set_entry_point(\"debater1_node\")\n",
    "\n",
    "graph_builder.add_conditional_edges(\n",
    "    \"debater1_node\",\n",
    "    route_after_debater1,\n",
    "    {\n",
    "        \"tools_node\": \"tools_node\",\n",
    "        \"debater2_node\": \"debater2_node\",\n",
    "    },\n",
    ")\n",
    "\n",
    "graph_builder.add_conditional_edges(\n",
    "    \"debater2_node\",\n",
    "    route_after_debater2,\n",
    "    {\n",
    "        \"tools_node\": \"tools_node\",\n",
    "        \"debater1_node\": \"debater1_node\",\n",
    "        \"judge_node\": \"judge_node\",\n",
    "    },\n",
    ")\n",
    "\n",
    "graph_builder.add_conditional_edges(\n",
    "    \"tools_node\",\n",
    "    route_after_tools,\n",
    "    {\n",
    "        \"debater1_node\": \"debater1_node\",\n",
    "        \"debater2_node\": \"debater2_node\",\n",
    "    },\n",
    ")\n",
    "\n",
    "graph_builder.add_edge(\"judge_node\", END)\n",
    "\n",
    "memory = MemorySaver()\n",
    "graph = graph_builder.compile(checkpointer=memory)"
   ]
  },
  {
   "cell_type": "code",
   "execution_count": 25,
   "id": "dc80518d",
   "metadata": {},
   "outputs": [
    {
     "data": {
      "image/png": "[encoded data removed]",
      "text/plain": [
       "<IPython.core.display.Image object>"
      ]
     },
     "metadata": {},
     "output_type": "display_data"
    }
   ],
   "source": [
    "display(Image(graph.get_graph().draw_mermaid_png()))"
   ]
  },
  {
   "cell_type": "markdown",
   "id": "a4cbf760",
   "metadata": {},
   "source": [
    "## Test"
   ]
  },
  {
   "cell_type": "code",
   "execution_count": 26,
   "id": "30201b9b",
   "metadata": {},
   "outputs": [],
   "source": [
    "def run_debate(topic: str, max_rounds: int = 2, thread_id: str | None = None, print_result: bool = True) -> DebateState:\n",
    "    _validate_inputs(topic, max_rounds)\n",
    "    state = _init_state(topic, max_rounds)\n",
    "\n",
    "    if thread_id is None:\n",
    "        thread_id = f\"debate-{uuid.uuid4()}\"\n",
    "    config = {\"configurable\": {\"thread_id\": thread_id}}\n",
    "    final_state = graph.invoke(state, config=config)\n",
    "\n",
    "    assert final_state[\"round\"] == final_state[\"max_rounds\"], \"Debate did not complete all rounds.\"\n",
    "    assert final_state[\"messages\"] and final_state[\"messages\"][-1][\"role\"] == \"judge\", \"Final message must be from judge.\"\n",
    "    assert \"winner\" in final_state and \"verdict\" in final_state, \"Judge outcome missing.\"\n",
    "\n",
    "    if print_result:\n",
    "        _print_transcript(final_state)\n",
    "    return final_state"
   ]
  },
  {
   "cell_type": "code",
   "execution_count": 27,
   "id": "e8b4cace",
   "metadata": {},
   "outputs": [
    {
     "name": "stdout",
     "output_type": "stream",
     "text": [
      "\n",
      "=== Debate Transcript ===\n",
      "01. Debater1: Universal Basic Income (UBI) represents a transformative shift in our approach to economic security and social welfare. The implementation of UBI can be seen as a net positive for society for several compelling reasons.\n",
      "\n",
      "First, UBI enhances income security, particularly for the most vulnerable populations. By providing a guaranteed income, it helps alleviate poverty and reduces reliance on complex welfare systems. This is crucial in an era where economic instability and job displacement due to automation are increasingly common.\n",
      "\n",
      "Second, studies have shown that UBI can lead to improved health outcomes. Recipients of UBI often experience reduced stress, better mental health, and enhanced overall wellbeing. This is significant as improved health not only benefits individuals but also reduces healthcare costs for society at large.\n",
      "\n",
      "Furthermore, UBI can foster greater freedom and flexibility for individuals. By ensuring a basic income, people have the opportunity to pursue education, start businesses, or engage in creative endeavors without the constant worry of financial instability. This can lead to a more innovative and dynamic economy.\n",
      "\n",
      "Additionally, evidence from various pilot programs and implementations across the globe suggests that UBI does not disincentivize work, as skeptics often argue. In fact, many studies indicate that UBI recipients are more likely to engage in employment and entrepreneurial activities, as the financial cushion allows them to take risks that they otherwise could not afford.\n",
      "\n",
      "In summary, Universal Basic Income not only provides a safety net for those in need but also promotes health, freedom, and economic engagement. By investing in UBI, we invest in a more equitable, resilient, and prosperous society.\n",
      "02. Debater2: While Debater1 presents a compelling case for Universal Basic Income (UBI), there are significant counterarguments that challenge its effectiveness and overall societal benefit.\n",
      "\n",
      "First, while UBI aims to enhance income security, it can inadvertently lead to economic inefficiencies. Studies indicate that simply providing cash transfers can sometimes be less effective than targeted assistance. For example, recent findings suggest that lump-sum payments, such as one-time cash transfers, can yield better economic outcomes for recipients compared to regular UBI payments. This raises questions about the effectiveness of providing a universal payment versus a more strategic allocation of resources.\n",
      "\n",
      "Secondly, the assertion that UBI improves health outcomes and reduces stress must be tempered with caution. Evidence from various pilot programs shows mixed results; while some participants experience benefits, others do not see significant changes in their mental health or well-being. This inconsistency indicates that UBI may not be a universal remedy for health issues and could be less impactful than other targeted health interventions.\n",
      "\n",
      "Moreover, the claim that UBI encourages greater entrepreneurial activity and job engagement is not universally supported. Some studies point to a phenomenon where guaranteed income can lead to reduced motivation for work, as individuals may become reliant on the UBI without seeking additional employment. This contradicts the idea that UBI uniformly promotes a more dynamic economy; instead, it risks fostering a culture of dependency.\n",
      "\n",
      "Lastly, the financial sustainability of UBI remains a contentious issue. Funding a universal program requires significant government resources, which could lead to increased taxes or cuts in other essential services. This raises the question of whether the long-term economic implications of UBI could outweigh its immediate benefits, potentially resulting in greater societal inequities.\n",
      "\n",
      "In conclusion, while UBI has potential benefits, there are critical challenges and uncertainties regarding its implementation and effectiveness. A more nuanced approach, focusing on targeted support rather than a blanket universal payment, may be a better strategy for addressing poverty and promoting economic stability.\n",
      "03. Debater1: In response to Debater2's points, I would like to emphasize that while there are valid concerns regarding Universal Basic Income (UBI), the overarching benefits it brings to society far outweigh the challenges.\n",
      "\n",
      "First, the argument that UBI could lead to economic inefficiencies fails to recognize the transformative potential of providing a safety net for all. Targeted assistance can indeed be beneficial, but it often comes with high administrative costs and stigmatization of recipients. UBI, being universal, simplifies the process, reduces bureaucracy, and respects individual autonomy by allowing people to choose how to best use their funds.\n",
      "\n",
      "Second, regarding health outcomes, while it is true that results can be mixed, multiple studies indicate that UBI has the capacity to improve overall public health. For instance, UBI recipients experience reduced stress and improved mental health, which can lead to decreased healthcare costs in the long run. This is a crucial public good that should not be dismissed based on isolated studies.\n",
      "\n",
      "Moreover, the claim that UBI discourages work is contradicted by various pilot programs. Evidence shows that rather than fostering dependency, UBI can empower individuals to pursue further education and entrepreneurial ventures. This financial security allows them to take risks and innovate, contributing positively to the economy.\n",
      "\n",
      "Finally, the financial sustainability of UBI is a concern that deserves attention, but it is important to consider that investments in UBI can lead to increased economic activity and a more productive workforce. The potential for reduced costs in other social services and increased tax revenues from a thriving economy can offset the initial expenditures.\n",
      "\n",
      "In conclusion, UBI represents a forward-thinking solution to modern economic challenges, promoting health, freedom, and economic engagement. By embracing this approach, we pave the way for a more equitable and resilient society that can better adapt to the changing landscape of work and social welfare.\n",
      "04. Debater2: While Debater1 emphasizes the transformative potential of Universal Basic Income (UBI), there are critical aspects that challenge its efficacy and sustainability that need to be addressed.\n",
      "\n",
      "Firstly, the argument that UBI simplifies welfare systems and reduces bureaucratic inefficiencies overlooks the fact that targeted assistance can be more effective in addressing specific needs. Studies indicate that targeted programs often yield better outcomes than universal ones. For instance, a recent analysis demonstrated that targeted transfers, rather than universal payments, can lead to greater improvements in economic stability for those in need. This suggests that a more strategic allocation of resources could be a better approach than a blanket UBI.\n",
      "\n",
      "Secondly, while Debater1 claims that UBI improves health outcomes, the evidence remains mixed. Some studies do report benefits, but others indicate that a substantial portion of UBI recipients do not experience significant improvements in mental health or wellbeing. This inconsistency highlights that UBI may not universally remedy health issues, and other targeted interventions could be more effective.\n",
      "\n",
      "Moreover, the assertion that UBI encourages entrepreneurship and increased work engagement is contradicted by evidence showing that UBI can lead to reduced motivation for work. Recent studies have found that recipients of UBI tend to work fewer hours and may even opt for less stable employment options, as the financial cushion could diminish the urgency to seek stable jobs. This calls into question the claim that UBI fosters a more dynamic economy; instead, it risks creating a culture of dependency among some individuals.\n",
      "\n",
      "Finally, the financial sustainability of UBI remains a significant concern. Funding such a program would likely necessitate increased taxes or cuts to existing services, which could exacerbate inequalities rather than alleviate them. The potential economic growth touted by Debater1 as a benefit of UBI does not guarantee that it will offset the substantial costs of implementation, putting additional strain on government resources and social services.\n",
      "\n",
      "In conclusion, while UBI presents an appealing solution to contemporary economic challenges, the evidence suggests that it may not be the most effective means of promoting societal welfare. A more nuanced approach that prioritizes targeted support could lead to better outcomes for vulnerable populations and a more equitable society.\n",
      "\n",
      "--- Judge's Verdict ---\n",
      "Debater1 provided a clearer and more logically structured argument, supported by evidence from studies that highlight the benefits of UBI, including improved health outcomes and economic engagement. Debater2 raised valid concerns but did not sufficiently counter the evidence presented by Debater1, leading to a stronger overall case for UBI.\n",
      "=========================\n",
      "\n"
     ]
    }
   ],
   "source": [
    "final = run_debate(\"Is universal basic income a net positive for society?\", max_rounds=2, print_result=True)"
   ]
  }
 ],
 "metadata": {
  "kernelspec": {
   "display_name": ".venv",
   "language": "python",
   "name": "python3"
  },
  "language_info": {
   "codemirror_mode": {
    "name": "ipython",
    "version": 3
   },
   "file_extension": ".py",
   "mimetype": "text/x-python",
   "name": "python",
   "nbconvert_exporter": "python",
   "pygments_lexer": "ipython3",
   "version": "3.12.10"
  }
 },
 "nbformat": 4,
 "nbformat_minor": 5
}
